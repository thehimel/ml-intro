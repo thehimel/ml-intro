{
 "cells": [
  {
   "cell_type": "code",
   "execution_count": 10,
   "metadata": {},
   "outputs": [
    {
     "output_type": "execute_result",
     "data": {
      "text/plain": [
       "array(['HipHop'], dtype=object)"
      ]
     },
     "metadata": {},
     "execution_count": 10
    }
   ],
   "source": [
    "# Persisting Models\n",
    "\n",
    "import pandas as pd\n",
    "from sklearn.tree import DecisionTreeClassifier as DTC\n",
    "import joblib\n",
    "\n",
    "music_data = pd.read_csv('data/music.csv')\n",
    "input_set = music_data.drop(columns=['genre'])\n",
    "output_set = music_data['genre']\n",
    "\n",
    "# Create a model\n",
    "model = DTC()\n",
    "\n",
    "# Train the model\n",
    "model.fit(input_set, output_set)\n",
    "\n",
    "# Create the persistent model in a file\n",
    "model_location = 'models/music.joblib'\n",
    "joblib.dump(model, model_location)\n",
    "\n",
    "# Load the persistent model from a file\n",
    "model_persistent = joblib.load(model_location)\n",
    "predictions = model_persistent.predict([\n",
    "    [21, 1]\n",
    "])\n",
    "predictions\n"
   ]
  }
 ],
 "metadata": {
  "kernelspec": {
   "display_name": "Python 3",
   "language": "python",
   "name": "python3"
  },
  "language_info": {
   "codemirror_mode": {
    "name": "ipython",
    "version": 3
   },
   "file_extension": ".py",
   "mimetype": "text/x-python",
   "name": "python",
   "nbconvert_exporter": "python",
   "pygments_lexer": "ipython3",
   "version": "3.8.5-final"
  }
 },
 "nbformat": 4,
 "nbformat_minor": 4
}