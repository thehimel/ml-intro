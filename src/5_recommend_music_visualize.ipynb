{
 "cells": [
  {
   "cell_type": "code",
   "execution_count": 2,
   "metadata": {},
   "outputs": [],
   "source": [
    "# Persisting Models\n",
    "\n",
    "import pandas as pd\n",
    "from sklearn import tree\n",
    "from sklearn.tree import DecisionTreeClassifier as DTC\n",
    "\n",
    "data_set_location = 'data/music.csv'\n",
    "music_data = pd.read_csv(data_set_location)\n",
    "input_set = music_data.drop(columns=['genre'])\n",
    "output_set = music_data['genre']\n",
    "\n",
    "# Create a model\n",
    "model = DTC()\n",
    "\n",
    "# Train the model\n",
    "model.fit(input_set, output_set)\n",
    "\n",
    "dot_file_location = 'graphs/music.dot'\n",
    "tree.export_graphviz(model, out_file = dot_file_location,\n",
    "    feature_names=['age', 'gender'], # Make decisions based on this fields\n",
    "    class_names=sorted(output_set.unique()), # Classes are the unique fields of the output set\n",
    "    label='all', # All nodes have labels\n",
    "    rounded=True, # Leaf nodes are rounded\n",
    "    filled=True # Leaf nodes are filled with colors\n",
    ")\n"
   ]
  }
 ],
 "metadata": {
  "kernelspec": {
   "display_name": "Python 3",
   "language": "python",
   "name": "python3"
  },
  "language_info": {
   "codemirror_mode": {
    "name": "ipython",
    "version": 3
   },
   "file_extension": ".py",
   "mimetype": "text/x-python",
   "name": "python",
   "nbconvert_exporter": "python",
   "pygments_lexer": "ipython3",
   "version": "3.8.5"
  }
 },
 "nbformat": 4,
 "nbformat_minor": 4
}